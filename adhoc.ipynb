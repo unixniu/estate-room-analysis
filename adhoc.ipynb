{
 "cells": [
  {
   "cell_type": "code",
   "execution_count": null,
   "metadata": {},
   "outputs": [
    {
     "name": "stdout",
     "output_type": "stream",
     "text": [
      "20240305\n"
     ]
    }
   ],
   "source": [
    "from datetime import date\n",
    "print(str(date.today()).replace('-', ''))\n",
    "today = date.today().strftime('%Y%m%d')"
   ]
  },
  {
   "cell_type": "code",
   "execution_count": null,
   "metadata": {},
   "outputs": [],
   "source": [
    "import eroom_finder as finder\n",
    "\n",
    "finder.filter = 'de1y4lc1sf1'   # 低楼层 20年以内 精装修 普宅\n",
    "#finder.filter = 'de1y4sf1'   # 20年以内 精装修 普宅\n",
    "filterstr1 = '低楼层 20年以内 精装修 普宅'\n",
    "\n",
    "df1 = finder.main('su', 'small')"
   ]
  },
  {
   "cell_type": "code",
   "execution_count": 49,
   "metadata": {},
   "outputs": [
    {
     "data": {
      "text/html": [
       "<div>\n",
       "<style scoped>\n",
       "    .dataframe tbody tr th:only-of-type {\n",
       "        vertical-align: middle;\n",
       "    }\n",
       "\n",
       "    .dataframe tbody tr th {\n",
       "        vertical-align: top;\n",
       "    }\n",
       "\n",
       "    .dataframe thead th {\n",
       "        text-align: right;\n",
       "    }\n",
       "</style>\n",
       "<table border=\"1\" class=\"dataframe\">\n",
       "  <thead>\n",
       "    <tr style=\"text-align: right;\">\n",
       "      <th></th>\n",
       "      <th>area</th>\n",
       "      <th>title</th>\n",
       "      <th>community</th>\n",
       "      <th>position</th>\n",
       "      <th>tax</th>\n",
       "      <th>total_price</th>\n",
       "      <th>unit_price</th>\n",
       "      <th>hhid</th>\n",
       "      <th>link</th>\n",
       "      <th>hourseType</th>\n",
       "      <th>hourseSize</th>\n",
       "      <th>direction</th>\n",
       "      <th>fitment</th>\n",
       "      <th>level</th>\n",
       "      <th>buildTime</th>\n",
       "      <th>floors</th>\n",
       "    </tr>\n",
       "  </thead>\n",
       "  <tbody>\n",
       "    <tr>\n",
       "      <th>0</th>\n",
       "      <td>城南</td>\n",
       "      <td>龙湖泱望 精装大4房 飞机户型 双地铁 诚心出售</td>\n",
       "      <td>泱望雅苑</td>\n",
       "      <td>城南</td>\n",
       "      <td>None</td>\n",
       "      <td>456.0</td>\n",
       "      <td>31815.0</td>\n",
       "      <td>107108417156</td>\n",
       "      <td>https://su.lianjia.com/ershoufang/107108417156...</td>\n",
       "      <td>4室2厅</td>\n",
       "      <td>143.33</td>\n",
       "      <td>南</td>\n",
       "      <td>精装</td>\n",
       "      <td>低楼层(共33层)</td>\n",
       "      <td>板楼</td>\n",
       "      <td>33</td>\n",
       "    </tr>\n",
       "  </tbody>\n",
       "</table>\n",
       "</div>"
      ],
      "text/plain": [
       "  area                     title community position   tax  total_price  \\\n",
       "0   城南  龙湖泱望 精装大4房 飞机户型 双地铁 诚心出售      泱望雅苑       城南  None        456.0   \n",
       "\n",
       "   unit_price          hhid  \\\n",
       "0     31815.0  107108417156   \n",
       "\n",
       "                                                link hourseType  hourseSize  \\\n",
       "0  https://su.lianjia.com/ershoufang/107108417156...       4室2厅      143.33   \n",
       "\n",
       "  direction fitment      level buildTime floors  \n",
       "0         南      精装  低楼层(共33层)        板楼     33  "
      ]
     },
     "execution_count": 49,
     "metadata": {},
     "output_type": "execute_result"
    }
   ],
   "source": [
    "df1['floors'] = df1['level'].str.extract(r'(\\d+)层', expand=False)\n",
    "df1.head(1)"
   ]
  },
  {
   "cell_type": "code",
   "execution_count": 50,
   "metadata": {},
   "outputs": [],
   "source": [
    "df1.to_csv(f'~/Downloads/{filterstr1}_{today}.csv')"
   ]
  },
  {
   "cell_type": "code",
   "execution_count": 51,
   "metadata": {},
   "outputs": [],
   "source": [
    "filtered_yard = df1[(df1['title'].str.contains('院子') | df1['title'].str.contains('带.*花园')) &\n",
    "    # (df1['floors'].astype(int) <= 11) &\n",
    "    (df1['total_price'].astype(float) <= 400.0) &\n",
    "    (df1['hourseSize'] > 85)]"
   ]
  },
  {
   "cell_type": "code",
   "execution_count": 52,
   "metadata": {},
   "outputs": [],
   "source": [
    "filtered_yard.to_csv(f'~/Downloads/院子_{today}.csv')"
   ]
  },
  {
   "cell_type": "code",
   "execution_count": 53,
   "metadata": {},
   "outputs": [
    {
     "data": {
      "text/plain": [
       "area  community\n",
       "元和    万宇名都花园        1\n",
       "      元和之春          3\n",
       "      华辰嘉园北区        1\n",
       "      华辰嘉园南区        1\n",
       "      南山檀郡          3\n",
       "      合景峰汇五期        1\n",
       "      合景峰汇八期        2\n",
       "      合景峰汇四期        2\n",
       "      招商依云华苑        4\n",
       "      星湖花海          2\n",
       "      晨曦印象花园        2\n",
       "      晨曦怡庭          2\n",
       "      晨曦馨苑          2\n",
       "      欧风丽苑          3\n",
       "      水韵花都家园        1\n",
       "      荣盛阳光名邸        2\n",
       "      锦绣江南(相城区)     6\n",
       "      雅戈尔紫玉花园       1\n",
       "      香城花园三区        9\n",
       "      香城颐园          1\n",
       "      魅力花园          1\n",
       "城南    南城丽景          1\n",
       "      小石城2区玉兰园      2\n",
       "      小石城5区紫竹园      1\n",
       "      小石城6区香樟园      7\n",
       "      小石城8区梧桐园      1\n",
       "      新城金郡          1\n",
       "      新城香溢澜桥        2\n",
       "      玫瑰久久          3\n",
       "      越湖家天下         1\n",
       "      阳光水榭          4\n",
       "尹山湖   中海双湾花园一期      3\n",
       "      中海双湾花园二期      1\n",
       "      保利居上          1\n",
       "渭塘    朗悦湾           5\n",
       "      燕回江南院         1\n",
       "苏苑    嘉宝花园三期        2\n",
       "越溪    嘉盛花园          2\n",
       "      新城石湖公馆        4\n",
       "      石湖之韵          4\n",
       "      石湖华城          3\n",
       "      石湖华城湖郡华庭      2\n",
       "      金辉我的日子        2\n",
       "      锦和加州北区        5\n",
       "郭巷    万业湖墅金典       12\n",
       "      湖滨花园(吴中区)     2\n",
       "      香滨水岸          3\n",
       "高铁新城  建发中泱天成        2\n",
       "      环秀湖花园         4\n",
       "龙西    吴中二村          2\n",
       "      聚宝苑           1\n",
       "Name: count, dtype: int64"
      ]
     },
     "execution_count": 53,
     "metadata": {},
     "output_type": "execute_result"
    }
   ],
   "source": [
    "# filtered.query(\"area == '吴中'\")['community'].unique()\n",
    "filtered_yard[['area','community']].value_counts().sort_index()"
   ]
  },
  {
   "cell_type": "code",
   "execution_count": 47,
   "metadata": {},
   "outputs": [],
   "source": [
    "import eroom_finder as finder\n",
    "\n",
    "finder.filter = 'de1ie2y4sf1l3l4l5'   # 精装修 有电梯 20年以内 普宅 3房4房5房\n",
    "filterstr2 = '精装-电梯-20年以内-3房以上'\n",
    "\n",
    "df2 = finder.main('su', 'small')"
   ]
  },
  {
   "cell_type": "code",
   "execution_count": null,
   "metadata": {},
   "outputs": [
    {
     "data": {
      "text/html": [
       "<div>\n",
       "<style scoped>\n",
       "    .dataframe tbody tr th:only-of-type {\n",
       "        vertical-align: middle;\n",
       "    }\n",
       "\n",
       "    .dataframe tbody tr th {\n",
       "        vertical-align: top;\n",
       "    }\n",
       "\n",
       "    .dataframe thead th {\n",
       "        text-align: right;\n",
       "    }\n",
       "</style>\n",
       "<table border=\"1\" class=\"dataframe\">\n",
       "  <thead>\n",
       "    <tr style=\"text-align: right;\">\n",
       "      <th></th>\n",
       "      <th>area</th>\n",
       "      <th>title</th>\n",
       "      <th>community</th>\n",
       "      <th>position</th>\n",
       "      <th>tax</th>\n",
       "      <th>total_price</th>\n",
       "      <th>unit_price</th>\n",
       "      <th>hhid</th>\n",
       "      <th>link</th>\n",
       "      <th>hourseType</th>\n",
       "      <th>hourseSize</th>\n",
       "      <th>direction</th>\n",
       "      <th>fitment</th>\n",
       "      <th>level</th>\n",
       "      <th>buildTime</th>\n",
       "      <th>floors</th>\n",
       "    </tr>\n",
       "  </thead>\n",
       "  <tbody>\n",
       "    <tr>\n",
       "      <th>0</th>\n",
       "      <td>城南</td>\n",
       "      <td>新上房源 中间楼层 有钥匙 采光好 精装修 业主诚意</td>\n",
       "      <td>小石城6区香樟园</td>\n",
       "      <td>城南</td>\n",
       "      <td>None</td>\n",
       "      <td>175.0</td>\n",
       "      <td>19686.0</td>\n",
       "      <td>107108546279</td>\n",
       "      <td>https://su.lianjia.com/ershoufang/107108546279...</td>\n",
       "      <td>3室2厅</td>\n",
       "      <td>88.9</td>\n",
       "      <td>南</td>\n",
       "      <td>精装</td>\n",
       "      <td>中楼层(共26层)</td>\n",
       "      <td>板楼</td>\n",
       "      <td>26</td>\n",
       "    </tr>\n",
       "  </tbody>\n",
       "</table>\n",
       "</div>"
      ],
      "text/plain": [
       "  area                       title community position   tax  total_price  \\\n",
       "0   城南  新上房源 中间楼层 有钥匙 采光好 精装修 业主诚意  小石城6区香樟园       城南  None        175.0   \n",
       "\n",
       "   unit_price          hhid  \\\n",
       "0     19686.0  107108546279   \n",
       "\n",
       "                                                link hourseType  hourseSize  \\\n",
       "0  https://su.lianjia.com/ershoufang/107108546279...       3室2厅        88.9   \n",
       "\n",
       "  direction fitment      level buildTime floors  \n",
       "0         南      精装  中楼层(共26层)        板楼     26  "
      ]
     },
     "metadata": {},
     "output_type": "display_data"
    }
   ],
   "source": [
    "df2['floors'] = df2['level'].str.extract(r'(\\d+)层', expand=False)\n",
    "df2.head(1)"
   ]
  },
  {
   "cell_type": "code",
   "execution_count": null,
   "metadata": {},
   "outputs": [],
   "source": [
    "df2.to_csv(f'~/Downloads/{filterstr2}_{today}.csv')"
   ]
  },
  {
   "cell_type": "code",
   "execution_count": 34,
   "metadata": {},
   "outputs": [],
   "source": [
    "filtered2_villa = df2[\n",
    "    (df2['floors'].astype(int) <= 11) &\n",
    "    (df2['total_price'].astype(float) <= 400.0) &\n",
    "    (df2['hourseSize'] > 85)]"
   ]
  },
  {
   "cell_type": "code",
   "execution_count": null,
   "metadata": {},
   "outputs": [],
   "source": [
    "filtered2_villa[['area','community']].value_counts().sort_index().to_csv(f'~/Downloads/洋房_{today}.csv')"
   ]
  }
 ],
 "metadata": {
  "kernelspec": {
   "display_name": "Python 3",
   "language": "python",
   "name": "python3"
  },
  "language_info": {
   "codemirror_mode": {
    "name": "ipython",
    "version": 3
   },
   "file_extension": ".py",
   "mimetype": "text/x-python",
   "name": "python",
   "nbconvert_exporter": "python",
   "pygments_lexer": "ipython3",
   "version": "3.11.7"
  }
 },
 "nbformat": 4,
 "nbformat_minor": 2
}
